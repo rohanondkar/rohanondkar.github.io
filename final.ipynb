{
 "cells": [
  {
   "cell_type": "markdown",
   "source": [
    "# Final Project\n",
    "## By: Rohan Ondkar, Naveen Harish, Melvin Gonsalves"
   ],
   "metadata": {}
  },
  {
   "cell_type": "markdown",
   "source": [
    "# Part 2: Data Management/Representation\n",
    "First we have to import the necessary libraries that we need to load the dataset. We are using pandas, numpy, and matplotlib.pyplot.\n",
    "Pandas is used for the DataFrame object since that is an easy way to store tabular data. \n",
    "Numpy is used for its math functionality.\n",
    "Mathplotlib.pyplot is used to plot graphs demonstrating relationships between variables in our data."
   ],
   "metadata": {}
  },
  {
   "cell_type": "code",
   "execution_count": 2,
   "source": [
    "import pandas as pd\n",
    "import numpy as np\n",
    "import matplotlib.pyplot as plt"
   ],
   "outputs": [],
   "metadata": {}
  },
  {
   "cell_type": "markdown",
   "source": [
    "Getting the csv file and... idk fucking displaying it"
   ],
   "metadata": {}
  }
 ],
 "metadata": {
  "orig_nbformat": 4,
  "language_info": {
   "name": "python",
   "version": "3.9.15",
   "mimetype": "text/x-python",
   "codemirror_mode": {
    "name": "ipython",
    "version": 3
   },
   "pygments_lexer": "ipython3",
   "nbconvert_exporter": "python",
   "file_extension": ".py"
  },
  "kernelspec": {
   "name": "python3",
   "display_name": "Python 3.9.1 64-bit"
  },
  "interpreter": {
   "hash": "aee8b7b246df8f9039afb4144a1f6fd8d2ca17a180786b69acc140d282b71a49"
  }
 },
 "nbformat": 4,
 "nbformat_minor": 2
}